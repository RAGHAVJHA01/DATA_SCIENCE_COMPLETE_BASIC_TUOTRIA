{
 "cells": [
  {
   "cell_type": "code",
   "execution_count": 35,
   "metadata": {},
   "outputs": [],
   "source": [
    "import numpy as np\n",
    "import pandas as pd\n",
    "import matplotlib.pyplot as plt\n",
    "import seaborn as sns\n",
    "import matplotlib as mpl"
   ]
  },
  {
   "cell_type": "code",
   "execution_count": null,
   "metadata": {},
   "outputs": [],
   "source": []
  },
  {
   "cell_type": "markdown",
   "metadata": {},
   "source": [
    "# knn classfication using pyton:-"
   ]
  },
  {
   "cell_type": "code",
   "execution_count": 46,
   "metadata": {},
   "outputs": [
    {
     "data": {
      "image/png": "[encoded data removed]",
      "text/plain": [
       "<Figure size 432x288 with 1 Axes>"
      ]
     },
     "metadata": {
      "needs_background": "light"
     },
     "output_type": "display_data"
    }
   ],
   "source": [
    "\n",
    "\n",
    "#we are input the data point \n",
    "data={'k':[[0,2],[1,3],[2,4]],\n",
    "     'r':[[1,4],[3,4],[5,8]],\n",
    "      'c':[[1,2],[4,9],[5,6]]}\n",
    "#input the dimension of the data\n",
    "features=[3,4]\n",
    "#seee the data and check the distance of the data\n",
    "for i in data:\n",
    "    for ii in data[i]:\n",
    "        plt.scatter(ii[0],ii[1],s=100,color=i)\n",
    "        plt.scatter(features[0],features[1],s=100,color='b')\n",
    "plt.show()"
   ]
  },
  {
   "cell_type": "markdown",
   "metadata": {},
   "source": [
    "# using euclidean distance formula find the distance:-\n",
    "\n",
    "using simple euclidian formula:-\n",
    "\n",
    "from math import sqrt\n",
    "\n",
    "euclidean_distance=sqrt(x1-x2)**2\n",
    "\n",
    "used numpy formula\n",
    "\n",
    "\n",
    "import numpy as np\n",
    "\n",
    "disttance=np.linalg.norm(x1-x2)\n",
    "\n",
    "used scipy formula :-\n",
    "\n",
    "from scipy.spatial import distance\n",
    "\n",
    "distance.euclidean(x1-x2)"
   ]
  },
  {
   "cell_type": "code",
   "execution_count": 156,
   "metadata": {},
   "outputs": [
    {
     "name": "stdout",
     "output_type": "stream",
     "text": [
      "None\n"
     ]
    }
   ],
   "source": [
    "from scipy.spatial import distance\n",
    "data={'k':[[0,2],[1,3],[2,4]],\n",
    "     'r':[[1,4],[3,4],[5,8]],\n",
    "      'c':[[1,2],[4,9],[5,6]]}\n",
    "predict=[3,4]\n",
    "#input the dimension of the data\n",
    "def data_distance(data,predict,k):\n",
    "    distance=[]\n",
    "    for group in data:\n",
    "        for points in data[group]:\n",
    "            euc_dis=np.linalg.norm(np.array(points)-np.array(predict))\n",
    "            distance.append([euc_dis,group])\n",
    "    #sorte the distance of the data points\n",
    "   # vote=[v[i] for i in sorted(distance)[:k]]\n",
    "    #vote_result = Counter(votes).most_common(1)[0][0]\n",
    "    #return vote_result\n",
    "def majority_vote_sort(votes):\n",
    "    mode,count=ss.mstats.mode(votes)\n",
    "    return mode\n",
    "mode=data_distance(data,predict,k=3)\n",
    "print(mode)\n",
    "plt.scatter(ii[0],ii[1],s=100,color=i) for ii in dataset[i] for i in dataset]\n",
    "plt.scatter(new_features[0],new_feature[1])"
   ]
  },
  {
   "cell_type": "code",
   "execution_count": 157,
   "metadata": {},
   "outputs": [
    {
     "data": {
      "image/png": "[encoded data removed]",
      "text/plain": [
       "<Figure size 432x288 with 1 Axes>"
      ]
     },
     "metadata": {},
     "output_type": "display_data"
    }
   ],
   "source": [
    "import numpy as np\n",
    "import matplotlib.pyplot as plt\n",
    "from matplotlib import style\n",
    "import warnings\n",
    "from math import sqrt\n",
    "from collections import Counter\n",
    "style.use('fivethirtyeight')\n",
    "\n",
    "def k_nearest_neighbors(data, predict, k=3):\n",
    "    if len(data) >= k:\n",
    "        warnings.warn('K is set to a value less than total voting groups!')\n",
    "        \n",
    "    distances = []\n",
    "    for group in data:\n",
    "        for features in data[group]:\n",
    "            euclidean_distance = np.linalg.norm(np.array(features)-np.array(predict))\n",
    "            distances.append([euclidean_distance,group])\n",
    "\n",
    "    votes = [i[1] for i in sorted(distances)[:k]]\n",
    "    vote_result = Counter(votes).most_common(1)[0][0]\n",
    "    return vote_result\n",
    "\n",
    "dataset = {'k':[[1,2],[2,3],[3,1]], 'r':[[6,5],[7,7],[8,6]]}\n",
    "new_features = [5,7]\n",
    "[[plt.scatter(ii[0],ii[1],s=100,color=i) for ii in dataset[i]] for i in dataset]\n",
    "# same as:\n",
    "##for i in dataset:\n",
    "##    for ii in dataset[i]:\n",
    "##        plt.scatter(ii[0],ii[1],s=100,color=i)\n",
    "        \n",
    "plt.scatter(new_features[0], new_features[1], s=100)\n",
    "\n",
    "result = k_nearest_neighbors(dataset, new_features)\n",
    "plt.scatter(new_features[0], new_features[1], s=100, color = result)  \n",
    "plt.show()"
   ]
  },
  {
   "cell_type": "code",
   "execution_count": null,
   "metadata": {},
   "outputs": [],
   "source": []
  }
 ],
 "metadata": {
  "kernelspec": {
   "display_name": "Python 3",
   "language": "python",
   "name": "python3"
  },
  "language_info": {
   "codemirror_mode": {
    "name": "ipython",
    "version": 3
   },
   "file_extension": ".py",
   "mimetype": "text/x-python",
   "name": "python",
   "nbconvert_exporter": "python",
   "pygments_lexer": "ipython3",
   "version": "3.8.5"
  }
 },
 "nbformat": 4,
 "nbformat_minor": 2
}
