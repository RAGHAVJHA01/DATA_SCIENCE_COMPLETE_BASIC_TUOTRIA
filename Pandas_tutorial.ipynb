{
 "cells": [
  {
   "cell_type": "code",
   "execution_count": 1,
   "metadata": {},
   "outputs": [],
   "source": [
    "#draw a line sutable line of the snippesetaxes\n",
    "import numpy as np\n",
    "import pandas as pd\n",
    "import matplotlib.pyplot as plt\n",
    "import matplotlib"
   ]
  },
  {
   "cell_type": "code",
   "execution_count": 2,
   "metadata": {},
   "outputs": [
    {
     "data": {
      "image/png": "[encoded data removed]",
      "text/plain": [
       "<Figure size 432x288 with 1 Axes>"
      ]
     },
     "metadata": {
      "needs_background": "light"
     },
     "output_type": "display_data"
    }
   ],
   "source": [
    "x=np.arange(0,6)\n",
    "#for the y-axis\n",
    "y=np.arange(0,6)\n",
    "plt.plot(x,y)\n",
    "plt.xlabel('x-axis')\n",
    "plt.ylabel('y-axis')\n",
    "plt.title('this is simple graph')\n",
    "\n",
    "plt.show()"
   ]
  },
  {
   "cell_type": "code",
   "execution_count": 4,
   "metadata": {},
   "outputs": [
    {
     "data": {
      "image/png": "[encoded data removed]",
      "text/plain": [
       "<Figure size 432x288 with 1 Axes>"
      ]
     },
     "metadata": {
      "needs_background": "light"
     },
     "output_type": "display_data"
    }
   ],
   "source": [
    "import matplotlib.pyplot as plt\n",
    "with open(\"tests.txt\") as f:\n",
    "    data = f.read()\n",
    "#data = data.split('\\n')\n",
    "#x = [row.split(' ')[0] for row in data]\n",
    "#y = [row.split(' ')[1] for row in data]\n",
    "plt.plot(x, y)\n",
    "# Set the x axis label of the current axis.\n",
    "plt.xlabel('x - axis')\n",
    "# Set the y axis label of the current axis.\n",
    "plt.ylabel('y - axis')\n",
    "# Set a title \n",
    "plt.title('Sample graph!')\n",
    "# Display a figure.\n",
    "plt.show()\n"
   ]
  },
  {
   "cell_type": "code",
   "execution_count": 5,
   "metadata": {},
   "outputs": [
    {
     "name": "stdout",
     "output_type": "stream",
     "text": [
      "Using matplotlib backend: Qt5Agg\n"
     ]
    }
   ],
   "source": [
    "%matplotlib"
   ]
  },
  {
   "cell_type": "code",
   "execution_count": 6,
   "metadata": {},
   "outputs": [],
   "source": [
    "#get the input from the text file \n",
    "with open('tests.txt') as f:\n",
    "    data=f.read()\n",
    "plt.plot(x,y)\n",
    "plt.xlabel('x-axis')\n",
    "plt.ylabel('y-axis')\n",
    "plt.title('sample graph')\n",
    "plt.show()\n",
    "    "
   ]
  },
  {
   "cell_type": "code",
   "execution_count": 7,
   "metadata": {},
   "outputs": [
    {
     "ename": "FileNotFoundError",
     "evalue": "[Errno 2] No such file or directory: 'fdata.csv'",
     "output_type": "error",
     "traceback": [
      "\u001b[1;31m---------------------------------------------------------------------------\u001b[0m",
      "\u001b[1;31mFileNotFoundError\u001b[0m                         Traceback (most recent call last)",
      "\u001b[1;32m<ipython-input-7-041e142ac7e6>\u001b[0m in \u001b[0;36m<module>\u001b[1;34m\u001b[0m\n\u001b[0;32m      2\u001b[0m \u001b[1;32mimport\u001b[0m \u001b[0mmatplotlib\u001b[0m\u001b[1;33m.\u001b[0m\u001b[0mpyplot\u001b[0m \u001b[1;32mas\u001b[0m \u001b[0mplt\u001b[0m\u001b[1;33m\u001b[0m\u001b[1;33m\u001b[0m\u001b[0m\n\u001b[0;32m      3\u001b[0m \u001b[1;32mimport\u001b[0m \u001b[0mpandas\u001b[0m \u001b[1;32mas\u001b[0m \u001b[0mpd\u001b[0m\u001b[1;33m\u001b[0m\u001b[1;33m\u001b[0m\u001b[0m\n\u001b[1;32m----> 4\u001b[1;33m \u001b[0mdf\u001b[0m \u001b[1;33m=\u001b[0m \u001b[0mpd\u001b[0m\u001b[1;33m.\u001b[0m\u001b[0mread_csv\u001b[0m\u001b[1;33m(\u001b[0m\u001b[1;34m'fdata.csv'\u001b[0m\u001b[1;33m,\u001b[0m \u001b[0msep\u001b[0m\u001b[1;33m=\u001b[0m\u001b[1;34m','\u001b[0m\u001b[1;33m,\u001b[0m \u001b[0mparse_dates\u001b[0m\u001b[1;33m=\u001b[0m\u001b[1;32mTrue\u001b[0m\u001b[1;33m,\u001b[0m \u001b[0mindex_col\u001b[0m\u001b[1;33m=\u001b[0m\u001b[1;36m0\u001b[0m\u001b[1;33m)\u001b[0m\u001b[1;33m\u001b[0m\u001b[1;33m\u001b[0m\u001b[0m\n\u001b[0m\u001b[0;32m      5\u001b[0m \u001b[0mdf\u001b[0m\u001b[1;33m.\u001b[0m\u001b[0mplot\u001b[0m\u001b[1;33m(\u001b[0m\u001b[1;33m)\u001b[0m\u001b[1;33m\u001b[0m\u001b[1;33m\u001b[0m\u001b[0m\n\u001b[0;32m      6\u001b[0m \u001b[0mplt\u001b[0m\u001b[1;33m.\u001b[0m\u001b[0mshow\u001b[0m\u001b[1;33m(\u001b[0m\u001b[1;33m)\u001b[0m\u001b[1;33m\u001b[0m\u001b[1;33m\u001b[0m\u001b[0m\n",
      "\u001b[1;32m~\\anaconda\\lib\\site-packages\\pandas\\io\\parsers.py\u001b[0m in \u001b[0;36mread_csv\u001b[1;34m(filepath_or_buffer, sep, delimiter, header, names, index_col, usecols, squeeze, prefix, mangle_dupe_cols, dtype, engine, converters, true_values, false_values, skipinitialspace, skiprows, skipfooter, nrows, na_values, keep_default_na, na_filter, verbose, skip_blank_lines, parse_dates, infer_datetime_format, keep_date_col, date_parser, dayfirst, cache_dates, iterator, chunksize, compression, thousands, decimal, lineterminator, quotechar, quoting, doublequote, escapechar, comment, encoding, dialect, error_bad_lines, warn_bad_lines, delim_whitespace, low_memory, memory_map, float_precision)\u001b[0m\n\u001b[0;32m    684\u001b[0m     )\n\u001b[0;32m    685\u001b[0m \u001b[1;33m\u001b[0m\u001b[0m\n\u001b[1;32m--> 686\u001b[1;33m     \u001b[1;32mreturn\u001b[0m \u001b[0m_read\u001b[0m\u001b[1;33m(\u001b[0m\u001b[0mfilepath_or_buffer\u001b[0m\u001b[1;33m,\u001b[0m \u001b[0mkwds\u001b[0m\u001b[1;33m)\u001b[0m\u001b[1;33m\u001b[0m\u001b[1;33m\u001b[0m\u001b[0m\n\u001b[0m\u001b[0;32m    687\u001b[0m \u001b[1;33m\u001b[0m\u001b[0m\n\u001b[0;32m    688\u001b[0m \u001b[1;33m\u001b[0m\u001b[0m\n",
      "\u001b[1;32m~\\anaconda\\lib\\site-packages\\pandas\\io\\parsers.py\u001b[0m in \u001b[0;36m_read\u001b[1;34m(filepath_or_buffer, kwds)\u001b[0m\n\u001b[0;32m    450\u001b[0m \u001b[1;33m\u001b[0m\u001b[0m\n\u001b[0;32m    451\u001b[0m     \u001b[1;31m# Create the parser.\u001b[0m\u001b[1;33m\u001b[0m\u001b[1;33m\u001b[0m\u001b[1;33m\u001b[0m\u001b[0m\n\u001b[1;32m--> 452\u001b[1;33m     \u001b[0mparser\u001b[0m \u001b[1;33m=\u001b[0m \u001b[0mTextFileReader\u001b[0m\u001b[1;33m(\u001b[0m\u001b[0mfp_or_buf\u001b[0m\u001b[1;33m,\u001b[0m \u001b[1;33m**\u001b[0m\u001b[0mkwds\u001b[0m\u001b[1;33m)\u001b[0m\u001b[1;33m\u001b[0m\u001b[1;33m\u001b[0m\u001b[0m\n\u001b[0m\u001b[0;32m    453\u001b[0m \u001b[1;33m\u001b[0m\u001b[0m\n\u001b[0;32m    454\u001b[0m     \u001b[1;32mif\u001b[0m \u001b[0mchunksize\u001b[0m \u001b[1;32mor\u001b[0m \u001b[0miterator\u001b[0m\u001b[1;33m:\u001b[0m\u001b[1;33m\u001b[0m\u001b[1;33m\u001b[0m\u001b[0m\n",
      "\u001b[1;32m~\\anaconda\\lib\\site-packages\\pandas\\io\\parsers.py\u001b[0m in \u001b[0;36m__init__\u001b[1;34m(self, f, engine, **kwds)\u001b[0m\n\u001b[0;32m    944\u001b[0m             \u001b[0mself\u001b[0m\u001b[1;33m.\u001b[0m\u001b[0moptions\u001b[0m\u001b[1;33m[\u001b[0m\u001b[1;34m\"has_index_names\"\u001b[0m\u001b[1;33m]\u001b[0m \u001b[1;33m=\u001b[0m \u001b[0mkwds\u001b[0m\u001b[1;33m[\u001b[0m\u001b[1;34m\"has_index_names\"\u001b[0m\u001b[1;33m]\u001b[0m\u001b[1;33m\u001b[0m\u001b[1;33m\u001b[0m\u001b[0m\n\u001b[0;32m    945\u001b[0m \u001b[1;33m\u001b[0m\u001b[0m\n\u001b[1;32m--> 946\u001b[1;33m         \u001b[0mself\u001b[0m\u001b[1;33m.\u001b[0m\u001b[0m_make_engine\u001b[0m\u001b[1;33m(\u001b[0m\u001b[0mself\u001b[0m\u001b[1;33m.\u001b[0m\u001b[0mengine\u001b[0m\u001b[1;33m)\u001b[0m\u001b[1;33m\u001b[0m\u001b[1;33m\u001b[0m\u001b[0m\n\u001b[0m\u001b[0;32m    947\u001b[0m \u001b[1;33m\u001b[0m\u001b[0m\n\u001b[0;32m    948\u001b[0m     \u001b[1;32mdef\u001b[0m \u001b[0mclose\u001b[0m\u001b[1;33m(\u001b[0m\u001b[0mself\u001b[0m\u001b[1;33m)\u001b[0m\u001b[1;33m:\u001b[0m\u001b[1;33m\u001b[0m\u001b[1;33m\u001b[0m\u001b[0m\n",
      "\u001b[1;32m~\\anaconda\\lib\\site-packages\\pandas\\io\\parsers.py\u001b[0m in \u001b[0;36m_make_engine\u001b[1;34m(self, engine)\u001b[0m\n\u001b[0;32m   1176\u001b[0m     \u001b[1;32mdef\u001b[0m \u001b[0m_make_engine\u001b[0m\u001b[1;33m(\u001b[0m\u001b[0mself\u001b[0m\u001b[1;33m,\u001b[0m \u001b[0mengine\u001b[0m\u001b[1;33m=\u001b[0m\u001b[1;34m\"c\"\u001b[0m\u001b[1;33m)\u001b[0m\u001b[1;33m:\u001b[0m\u001b[1;33m\u001b[0m\u001b[1;33m\u001b[0m\u001b[0m\n\u001b[0;32m   1177\u001b[0m         \u001b[1;32mif\u001b[0m \u001b[0mengine\u001b[0m \u001b[1;33m==\u001b[0m \u001b[1;34m\"c\"\u001b[0m\u001b[1;33m:\u001b[0m\u001b[1;33m\u001b[0m\u001b[1;33m\u001b[0m\u001b[0m\n\u001b[1;32m-> 1178\u001b[1;33m             \u001b[0mself\u001b[0m\u001b[1;33m.\u001b[0m\u001b[0m_engine\u001b[0m \u001b[1;33m=\u001b[0m \u001b[0mCParserWrapper\u001b[0m\u001b[1;33m(\u001b[0m\u001b[0mself\u001b[0m\u001b[1;33m.\u001b[0m\u001b[0mf\u001b[0m\u001b[1;33m,\u001b[0m \u001b[1;33m**\u001b[0m\u001b[0mself\u001b[0m\u001b[1;33m.\u001b[0m\u001b[0moptions\u001b[0m\u001b[1;33m)\u001b[0m\u001b[1;33m\u001b[0m\u001b[1;33m\u001b[0m\u001b[0m\n\u001b[0m\u001b[0;32m   1179\u001b[0m         \u001b[1;32melse\u001b[0m\u001b[1;33m:\u001b[0m\u001b[1;33m\u001b[0m\u001b[1;33m\u001b[0m\u001b[0m\n\u001b[0;32m   1180\u001b[0m             \u001b[1;32mif\u001b[0m \u001b[0mengine\u001b[0m \u001b[1;33m==\u001b[0m \u001b[1;34m\"python\"\u001b[0m\u001b[1;33m:\u001b[0m\u001b[1;33m\u001b[0m\u001b[1;33m\u001b[0m\u001b[0m\n",
      "\u001b[1;32m~\\anaconda\\lib\\site-packages\\pandas\\io\\parsers.py\u001b[0m in \u001b[0;36m__init__\u001b[1;34m(self, src, **kwds)\u001b[0m\n\u001b[0;32m   2006\u001b[0m         \u001b[0mkwds\u001b[0m\u001b[1;33m[\u001b[0m\u001b[1;34m\"usecols\"\u001b[0m\u001b[1;33m]\u001b[0m \u001b[1;33m=\u001b[0m \u001b[0mself\u001b[0m\u001b[1;33m.\u001b[0m\u001b[0musecols\u001b[0m\u001b[1;33m\u001b[0m\u001b[1;33m\u001b[0m\u001b[0m\n\u001b[0;32m   2007\u001b[0m \u001b[1;33m\u001b[0m\u001b[0m\n\u001b[1;32m-> 2008\u001b[1;33m         \u001b[0mself\u001b[0m\u001b[1;33m.\u001b[0m\u001b[0m_reader\u001b[0m \u001b[1;33m=\u001b[0m \u001b[0mparsers\u001b[0m\u001b[1;33m.\u001b[0m\u001b[0mTextReader\u001b[0m\u001b[1;33m(\u001b[0m\u001b[0msrc\u001b[0m\u001b[1;33m,\u001b[0m \u001b[1;33m**\u001b[0m\u001b[0mkwds\u001b[0m\u001b[1;33m)\u001b[0m\u001b[1;33m\u001b[0m\u001b[1;33m\u001b[0m\u001b[0m\n\u001b[0m\u001b[0;32m   2009\u001b[0m         \u001b[0mself\u001b[0m\u001b[1;33m.\u001b[0m\u001b[0munnamed_cols\u001b[0m \u001b[1;33m=\u001b[0m \u001b[0mself\u001b[0m\u001b[1;33m.\u001b[0m\u001b[0m_reader\u001b[0m\u001b[1;33m.\u001b[0m\u001b[0munnamed_cols\u001b[0m\u001b[1;33m\u001b[0m\u001b[1;33m\u001b[0m\u001b[0m\n\u001b[0;32m   2010\u001b[0m \u001b[1;33m\u001b[0m\u001b[0m\n",
      "\u001b[1;32mpandas\\_libs\\parsers.pyx\u001b[0m in \u001b[0;36mpandas._libs.parsers.TextReader.__cinit__\u001b[1;34m()\u001b[0m\n",
      "\u001b[1;32mpandas\\_libs\\parsers.pyx\u001b[0m in \u001b[0;36mpandas._libs.parsers.TextReader._setup_parser_source\u001b[1;34m()\u001b[0m\n",
      "\u001b[1;31mFileNotFoundError\u001b[0m: [Errno 2] No such file or directory: 'fdata.csv'"
     ]
    }
   ],
   "source": [
    "#draw a finicial data from excel file\n",
    "import matplotlib.pyplot as plt\n",
    "import pandas as pd\n",
    "df = pd.read_csv('fdata.csv', sep=',', parse_dates=True, index_col=0)\n",
    "df.plot()\n",
    "plt.show()"
   ]
  },
  {
   "cell_type": "code",
   "execution_count": null,
   "metadata": {},
   "outputs": [],
   "source": [
    "df=pd.read_excel(r'C:\\\\Users\\\\Raghav Jha\\\\Stock.xlsx',sep='',parse_date=True,index_col=0)\n",
    "df.plot()\n",
    "plt.show()\n"
   ]
  },
  {
   "cell_type": "code",
   "execution_count": null,
   "metadata": {},
   "outputs": [],
   "source": [
    "x=[1,2,3,4]\n",
    "y=[4,5,5,6]\n",
    "x1=[1,2,3,4]\n",
    "\n",
    "y1=[4,3,8,6]\n",
    "#plt.legend()\n",
    "plt.plot(x1,y1)\n",
    "plt.plot(x,y)\n",
    "plt.legend()\n",
    "plt.show()"
   ]
  },
  {
   "cell_type": "code",
   "execution_count": 8,
   "metadata": {},
   "outputs": [],
   "source": [
    "import matplotlib.pyplot as plt\n",
    "# line 1 points\n",
    "x1 = [10,20,30]\n",
    "y1 = [20,40,10]\n",
    "# line 2 points\n",
    "x2 = [10,20,30]\n",
    "y2 = [40,10,30]\n",
    "# Set the x axis label of the current axis.\n",
    "plt.xlabel('x - axis')\n",
    "# Set the y axis label of the current axis.\n",
    "plt.ylabel('y - axis')\n",
    "# Set a title \n",
    "plt.title('Two or more lines with different widths and colors with suitable legends ')\n",
    "# Display the figure.\n",
    "plt.plot(x1,y1, color='blue', linewidth = 5,  label = 'line1-width-100')\n",
    "plt.plot(x2,y2, color='red', linewidth = 5,  label = 'line2-width-5')\n",
    "# show a legend on the plot\n",
    "plt.legend()\n",
    "plt.show()"
   ]
  },
  {
   "cell_type": "code",
   "execution_count": 9,
   "metadata": {},
   "outputs": [],
   "source": [
    "#two or more line sutable color of the legand\n",
    "plt.plot(x1,y1,color='blue',linewidth=5,label='line1-lin2')\n",
    "plt.plot(x2,y2,color='red',linewidth=3,label='line2-lin5')\n",
    "plt.legend()\n",
    "plt.show()"
   ]
  },
  {
   "cell_type": "code",
   "execution_count": 11,
   "metadata": {},
   "outputs": [],
   "source": [
    "x1 = [10,20,30]\n",
    "y1 = [20,40,10]\n",
    "# line 2 points\n",
    "x2 = [10,20,30]\n",
    "y2 = [40,10,30]\n",
    "# Set the x axis\n",
    "plt.xlabel('x-axis')\n",
    "plt.ylabel('y-axis')\n",
    "plt.plot(x1,y1,color='blue',linewidth=5,label='line1-width-100')\n",
    "plt.plot(x2,y2,color='red',linewidth=5,label='line2-line5')\n",
    "plt.legend()\n",
    "plt.show()"
   ]
  },
  {
   "cell_type": "code",
   "execution_count": 12,
   "metadata": {},
   "outputs": [
    {
     "name": "stdout",
     "output_type": "stream",
     "text": [
      "[[4 3 1 3 0 2 2 1 1 0 0 0]\n",
      " [4 4 2 2 3 1 0 0 2 0 3 3]\n",
      " [0 1 3 0 4 1 3 4 3 3 0 3]\n",
      " [0 1 3 4 3 0 3 0 1 1 1 4]\n",
      " [3 3 1 1 3 0 4 3 3 0 3 1]\n",
      " [1 0 1 0 3 3 0 2 2 2 1 0]\n",
      " [4 0 2 2 1 4 0 1 0 3 0 3]\n",
      " [3 2 4 1 2 4 1 2 0 3 0 1]\n",
      " [3 4 4 2 0 2 1 1 0 3 1 4]\n",
      " [2 2 2 0 4 2 2 4 2 1 4 2]\n",
      " [1 0 2 3 1 3 0 4 4 2 1 4]\n",
      " [1 1 0 1 1 4 2 2 2 4 0 1]]\n",
      "[[[[4 3 1 3]\n",
      "   [4 4 2 2]\n",
      "   [0 1 3 0]\n",
      "   [0 1 3 4]]\n",
      "\n",
      "  [[3 1 3 0]\n",
      "   [4 2 2 3]\n",
      "   [1 3 0 4]\n",
      "   [1 3 4 3]]\n",
      "\n",
      "  [[1 3 0 2]\n",
      "   [2 2 3 1]\n",
      "   [3 0 4 1]\n",
      "   [3 4 3 0]]\n",
      "\n",
      "  ...\n",
      "\n",
      "  [[2 1 1 0]\n",
      "   [0 0 2 0]\n",
      "   [3 4 3 3]\n",
      "   [3 0 1 1]]\n",
      "\n",
      "  [[1 1 0 0]\n",
      "   [0 2 0 3]\n",
      "   [4 3 3 0]\n",
      "   [0 1 1 1]]\n",
      "\n",
      "  [[1 0 0 0]\n",
      "   [2 0 3 3]\n",
      "   [3 3 0 3]\n",
      "   [1 1 1 4]]]\n",
      "\n",
      "\n",
      " [[[4 4 2 2]\n",
      "   [0 1 3 0]\n",
      "   [0 1 3 4]\n",
      "   [3 3 1 1]]\n",
      "\n",
      "  [[4 2 2 3]\n",
      "   [1 3 0 4]\n",
      "   [1 3 4 3]\n",
      "   [3 1 1 3]]\n",
      "\n",
      "  [[2 2 3 1]\n",
      "   [3 0 4 1]\n",
      "   [3 4 3 0]\n",
      "   [1 1 3 0]]\n",
      "\n",
      "  ...\n",
      "\n",
      "  [[0 0 2 0]\n",
      "   [3 4 3 3]\n",
      "   [3 0 1 1]\n",
      "   [4 3 3 0]]\n",
      "\n",
      "  [[0 2 0 3]\n",
      "   [4 3 3 0]\n",
      "   [0 1 1 1]\n",
      "   [3 3 0 3]]\n",
      "\n",
      "  [[2 0 3 3]\n",
      "   [3 3 0 3]\n",
      "   [1 1 1 4]\n",
      "   [3 0 3 1]]]\n",
      "\n",
      "\n",
      " [[[0 1 3 0]\n",
      "   [0 1 3 4]\n",
      "   [3 3 1 1]\n",
      "   [1 0 1 0]]\n",
      "\n",
      "  [[1 3 0 4]\n",
      "   [1 3 4 3]\n",
      "   [3 1 1 3]\n",
      "   [0 1 0 3]]\n",
      "\n",
      "  [[3 0 4 1]\n",
      "   [3 4 3 0]\n",
      "   [1 1 3 0]\n",
      "   [1 0 3 3]]\n",
      "\n",
      "  ...\n",
      "\n",
      "  [[3 4 3 3]\n",
      "   [3 0 1 1]\n",
      "   [4 3 3 0]\n",
      "   [0 2 2 2]]\n",
      "\n",
      "  [[4 3 3 0]\n",
      "   [0 1 1 1]\n",
      "   [3 3 0 3]\n",
      "   [2 2 2 1]]\n",
      "\n",
      "  [[3 3 0 3]\n",
      "   [1 1 1 4]\n",
      "   [3 0 3 1]\n",
      "   [2 2 1 0]]]\n",
      "\n",
      "\n",
      " ...\n",
      "\n",
      "\n",
      " [[[4 0 2 2]\n",
      "   [3 2 4 1]\n",
      "   [3 4 4 2]\n",
      "   [2 2 2 0]]\n",
      "\n",
      "  [[0 2 2 1]\n",
      "   [2 4 1 2]\n",
      "   [4 4 2 0]\n",
      "   [2 2 0 4]]\n",
      "\n",
      "  [[2 2 1 4]\n",
      "   [4 1 2 4]\n",
      "   [4 2 0 2]\n",
      "   [2 0 4 2]]\n",
      "\n",
      "  ...\n",
      "\n",
      "  [[0 1 0 3]\n",
      "   [1 2 0 3]\n",
      "   [1 1 0 3]\n",
      "   [2 4 2 1]]\n",
      "\n",
      "  [[1 0 3 0]\n",
      "   [2 0 3 0]\n",
      "   [1 0 3 1]\n",
      "   [4 2 1 4]]\n",
      "\n",
      "  [[0 3 0 3]\n",
      "   [0 3 0 1]\n",
      "   [0 3 1 4]\n",
      "   [2 1 4 2]]]\n",
      "\n",
      "\n",
      " [[[3 2 4 1]\n",
      "   [3 4 4 2]\n",
      "   [2 2 2 0]\n",
      "   [1 0 2 3]]\n",
      "\n",
      "  [[2 4 1 2]\n",
      "   [4 4 2 0]\n",
      "   [2 2 0 4]\n",
      "   [0 2 3 1]]\n",
      "\n",
      "  [[4 1 2 4]\n",
      "   [4 2 0 2]\n",
      "   [2 0 4 2]\n",
      "   [2 3 1 3]]\n",
      "\n",
      "  ...\n",
      "\n",
      "  [[1 2 0 3]\n",
      "   [1 1 0 3]\n",
      "   [2 4 2 1]\n",
      "   [0 4 4 2]]\n",
      "\n",
      "  [[2 0 3 0]\n",
      "   [1 0 3 1]\n",
      "   [4 2 1 4]\n",
      "   [4 4 2 1]]\n",
      "\n",
      "  [[0 3 0 1]\n",
      "   [0 3 1 4]\n",
      "   [2 1 4 2]\n",
      "   [4 2 1 4]]]\n",
      "\n",
      "\n",
      " [[[3 4 4 2]\n",
      "   [2 2 2 0]\n",
      "   [1 0 2 3]\n",
      "   [1 1 0 1]]\n",
      "\n",
      "  [[4 4 2 0]\n",
      "   [2 2 0 4]\n",
      "   [0 2 3 1]\n",
      "   [1 0 1 1]]\n",
      "\n",
      "  [[4 2 0 2]\n",
      "   [2 0 4 2]\n",
      "   [2 3 1 3]\n",
      "   [0 1 1 4]]\n",
      "\n",
      "  ...\n",
      "\n",
      "  [[1 1 0 3]\n",
      "   [2 4 2 1]\n",
      "   [0 4 4 2]\n",
      "   [2 2 2 4]]\n",
      "\n",
      "  [[1 0 3 1]\n",
      "   [4 2 1 4]\n",
      "   [4 4 2 1]\n",
      "   [2 2 4 0]]\n",
      "\n",
      "  [[0 3 1 4]\n",
      "   [2 1 4 2]\n",
      "   [4 2 1 4]\n",
      "   [2 4 0 1]]]]\n"
     ]
    }
   ],
   "source": [
    "#extract all the contigious of the matrix 4*4 matrix into 12*12 matrix\n",
    "import numpy as np\n",
    "a=np.random.randint(0,5,(12,12))\n",
    "print(a)\n",
    "n=4\n",
    "i=1+(a.shape[0]-4)\n",
    "j=1+(a.shape[1]-4)\n",
    "result=np.lib.stride_tricks.as_strided(a,shape=(i,j,n,n),strides=a.strides+a.strides)\n",
    "print(result)"
   ]
  },
  {
   "cell_type": "code",
   "execution_count": 13,
   "metadata": {},
   "outputs": [
    {
     "name": "stdout",
     "output_type": "stream",
     "text": [
      "[[4 3 1 3 0 2 2 1 1 0 0 0]\n",
      " [4 4 2 2 3 1 0 0 2 0 3 3]\n",
      " [0 1 3 0 4 1 3 4 3 3 0 3]\n",
      " [0 1 3 4 3 0 3 0 1 1 1 4]\n",
      " [3 3 1 1 3 0 4 3 3 0 3 1]\n",
      " [1 0 1 0 3 3 0 2 2 2 1 0]\n",
      " [4 0 2 2 1 4 0 1 0 3 0 3]\n",
      " [3 2 4 1 2 4 1 2 0 3 0 1]\n",
      " [3 4 4 2 0 2 1 1 0 3 1 4]\n",
      " [2 2 2 0 4 2 2 4 2 1 4 2]\n",
      " [1 0 2 3 1 3 0 4 4 2 1 4]\n",
      " [1 1 0 1 1 4 2 2 2 4 0 1]]\n",
      "[[[[3 2 3 4]\n",
      "   [2 2 3 4]\n",
      "   [1 1 0 2]\n",
      "   [2 4 2 1]]\n",
      "\n",
      "  [[2 3 4 3]\n",
      "   [2 3 4 1]\n",
      "   [1 0 2 4]\n",
      "   [4 2 1 4]]\n",
      "\n",
      "  [[3 4 3 0]\n",
      "   [3 4 1 1]\n",
      "   [0 2 4 3]\n",
      "   [2 1 4 2]]\n",
      "\n",
      "  ...\n",
      "\n",
      "  [[4 3 1 0]\n",
      "   [4 1 2 4]\n",
      "   [1 2 0 2]\n",
      "   [4 0 2 3]]\n",
      "\n",
      "  [[3 1 0 0]\n",
      "   [1 2 4 2]\n",
      "   [2 0 2 0]\n",
      "   [0 2 3 4]]\n",
      "\n",
      "  [[1 0 0 3]\n",
      "   [2 4 2 2]\n",
      "   [0 2 0 0]\n",
      "   [2 3 4 3]]]\n",
      "\n",
      "\n",
      " [[[2 2 3 4]\n",
      "   [1 1 0 2]\n",
      "   [2 4 2 1]\n",
      "   [2 4 0 4]]\n",
      "\n",
      "  [[2 3 4 1]\n",
      "   [1 0 2 4]\n",
      "   [4 2 1 4]\n",
      "   [4 0 4 3]]\n",
      "\n",
      "  [[3 4 1 1]\n",
      "   [0 2 4 3]\n",
      "   [2 1 4 2]\n",
      "   [0 4 3 0]]\n",
      "\n",
      "  ...\n",
      "\n",
      "  [[4 1 2 4]\n",
      "   [1 2 0 2]\n",
      "   [4 0 2 3]\n",
      "   [4 4 0 2]]\n",
      "\n",
      "  [[1 2 4 2]\n",
      "   [2 0 2 0]\n",
      "   [0 2 3 4]\n",
      "   [4 0 2 2]]\n",
      "\n",
      "  [[2 4 2 2]\n",
      "   [0 2 0 0]\n",
      "   [2 3 4 3]\n",
      "   [0 2 2 3]]]\n",
      "\n",
      "\n",
      " [[[1 1 0 2]\n",
      "   [2 4 2 1]\n",
      "   [2 4 0 4]\n",
      "   [2 2 4 4]]\n",
      "\n",
      "  [[1 0 2 4]\n",
      "   [4 2 1 4]\n",
      "   [4 0 4 3]\n",
      "   [2 4 4 2]]\n",
      "\n",
      "  [[0 2 4 3]\n",
      "   [2 1 4 2]\n",
      "   [0 4 3 0]\n",
      "   [4 4 2 2]]\n",
      "\n",
      "  ...\n",
      "\n",
      "  [[1 2 0 2]\n",
      "   [4 0 2 3]\n",
      "   [4 4 0 2]\n",
      "   [0 4 0 2]]\n",
      "\n",
      "  [[2 0 2 0]\n",
      "   [0 2 3 4]\n",
      "   [4 0 2 2]\n",
      "   [4 0 2 1]]\n",
      "\n",
      "  [[0 2 0 0]\n",
      "   [2 3 4 3]\n",
      "   [0 2 2 3]\n",
      "   [0 2 1 3]]]\n",
      "\n",
      "\n",
      " ...\n",
      "\n",
      "\n",
      " [[[3 4 2 2]\n",
      "   [0 1 1 1]\n",
      "   [4 3 3 4]\n",
      "   [0 2 1 0]]\n",
      "\n",
      "  [[4 2 2 4]\n",
      "   [1 1 1 4]\n",
      "   [3 3 4 4]\n",
      "   [2 1 0 0]]\n",
      "\n",
      "  [[2 2 4 1]\n",
      "   [1 1 4 3]\n",
      "   [3 4 4 1]\n",
      "   [1 0 0 0]]\n",
      "\n",
      "  ...\n",
      "\n",
      "  [[3 3 3 0]\n",
      "   [3 2 0 3]\n",
      "   [4 0 4 0]\n",
      "   [2 0 0 2]]\n",
      "\n",
      "  [[3 3 0 0]\n",
      "   [2 0 3 3]\n",
      "   [0 4 0 2]\n",
      "   [0 0 2 3]]\n",
      "\n",
      "  [[3 0 0 2]\n",
      "   [0 3 3 4]\n",
      "   [4 0 2 1]\n",
      "   [0 2 3 0]]]\n",
      "\n",
      "\n",
      " [[[0 1 1 1]\n",
      "   [4 3 3 4]\n",
      "   [0 2 1 0]\n",
      "   [2 2 0 3]]\n",
      "\n",
      "  [[1 1 1 4]\n",
      "   [3 3 4 4]\n",
      "   [2 1 0 0]\n",
      "   [2 0 3 3]]\n",
      "\n",
      "  [[1 1 4 3]\n",
      "   [3 4 4 1]\n",
      "   [1 0 0 0]\n",
      "   [0 3 3 0]]\n",
      "\n",
      "  ...\n",
      "\n",
      "  [[3 2 0 3]\n",
      "   [4 0 4 0]\n",
      "   [2 0 0 2]\n",
      "   [2 3 4 4]]\n",
      "\n",
      "  [[2 0 3 3]\n",
      "   [0 4 0 2]\n",
      "   [0 0 2 3]\n",
      "   [3 4 4 1]]\n",
      "\n",
      "  [[0 3 3 4]\n",
      "   [4 0 2 1]\n",
      "   [0 2 3 0]\n",
      "   [4 4 1 2]]]\n",
      "\n",
      "\n",
      " [[[4 3 3 4]\n",
      "   [0 2 1 0]\n",
      "   [2 2 0 3]\n",
      "   [3 2 1 3]]\n",
      "\n",
      "  [[3 3 4 4]\n",
      "   [2 1 0 0]\n",
      "   [2 0 3 3]\n",
      "   [2 1 3 3]]\n",
      "\n",
      "  [[3 4 4 1]\n",
      "   [1 0 0 0]\n",
      "   [0 3 3 0]\n",
      "   [1 3 3 4]]\n",
      "\n",
      "  ...\n",
      "\n",
      "  [[4 0 4 0]\n",
      "   [2 0 0 2]\n",
      "   [2 3 4 4]\n",
      "   [1 3 2 1]]\n",
      "\n",
      "  [[0 4 0 2]\n",
      "   [0 0 2 3]\n",
      "   [3 4 4 1]\n",
      "   [3 2 1 4]]\n",
      "\n",
      "  [[4 0 2 1]\n",
      "   [0 2 3 0]\n",
      "   [4 4 1 2]\n",
      "   [2 1 4 0]]]]\n"
     ]
    }
   ],
   "source": [
    "#all the catogrical matrix 12 *12 form convert 4*4\n",
    "a1=np.random.randint(0,5,(12,12))\n",
    "print(a)\n",
    "n=4\n",
    "i=1+(a1.shape[0]-4)\n",
    "j=1+(a1.shape[1]-4)\n",
    "#result = np.lib.stride_tricks.as_strided(arra1, shape=(i, j, n, n), strides = arra1.strides + arra1.strides)\n",
    "result=np.lib.stride_tricks.as_strided(a1,shape=(i,j,n,n),strides=a1.strides+a1.strides)\n",
    "print(result)"
   ]
  },
  {
   "cell_type": "code",
   "execution_count": 14,
   "metadata": {},
   "outputs": [
    {
     "name": "stdout",
     "output_type": "stream",
     "text": [
      "[[1. 1. 1. 1. 1. 1. 1. 1. 1. 1. 1. 1. 1. 1. 1. 1. 1. 1. 1. 1. 1. 1. 1. 1.\n",
      "  1.]\n",
      " [1. 1. 1. 1. 1. 1. 1. 1. 1. 1. 1. 1. 1. 1. 1. 1. 1. 1. 1. 1. 1. 1. 1. 1.\n",
      "  1.]\n",
      " [1. 1. 1. 1. 1. 1. 1. 1. 1. 1. 1. 1. 1. 1. 1. 1. 1. 1. 1. 1. 1. 1. 1. 1.\n",
      "  1.]\n",
      " [1. 1. 1. 1. 1. 1. 1. 1. 1. 1. 1. 1. 1. 1. 1. 1. 1. 1. 1. 1. 1. 1. 1. 1.\n",
      "  1.]\n",
      " [1. 1. 1. 1. 1. 1. 1. 1. 1. 1. 1. 1. 1. 1. 1. 1. 1. 1. 1. 1. 1. 1. 1. 1.\n",
      "  1.]\n",
      " [1. 1. 1. 1. 1. 1. 1. 1. 1. 1. 1. 1. 1. 1. 1. 1. 1. 1. 1. 1. 1. 1. 1. 1.\n",
      "  1.]\n",
      " [1. 1. 1. 1. 1. 1. 1. 1. 1. 1. 1. 1. 1. 1. 1. 1. 1. 1. 1. 1. 1. 1. 1. 1.\n",
      "  1.]\n",
      " [1. 1. 1. 1. 1. 1. 1. 1. 1. 1. 1. 1. 1. 1. 1. 1. 1. 1. 1. 1. 1. 1. 1. 1.\n",
      "  1.]\n",
      " [1. 1. 1. 1. 1. 1. 1. 1. 1. 1. 1. 1. 1. 1. 1. 1. 1. 1. 1. 1. 1. 1. 1. 1.\n",
      "  1.]\n",
      " [1. 1. 1. 1. 1. 1. 1. 1. 1. 1. 1. 1. 1. 1. 1. 1. 1. 1. 1. 1. 1. 1. 1. 1.\n",
      "  1.]\n",
      " [1. 1. 1. 1. 1. 1. 1. 1. 1. 1. 1. 1. 1. 1. 1. 1. 1. 1. 1. 1. 1. 1. 1. 1.\n",
      "  1.]\n",
      " [1. 1. 1. 1. 1. 1. 1. 1. 1. 1. 1. 1. 1. 1. 1. 1. 1. 1. 1. 1. 1. 1. 1. 1.\n",
      "  1.]\n",
      " [1. 1. 1. 1. 1. 1. 1. 1. 1. 1. 1. 1. 1. 1. 1. 1. 1. 1. 1. 1. 1. 1. 1. 1.\n",
      "  1.]\n",
      " [1. 1. 1. 1. 1. 1. 1. 1. 1. 1. 1. 1. 1. 1. 1. 1. 1. 1. 1. 1. 1. 1. 1. 1.\n",
      "  1.]\n",
      " [1. 1. 1. 1. 1. 1. 1. 1. 1. 1. 1. 1. 1. 1. 1. 1. 1. 1. 1. 1. 1. 1. 1. 1.\n",
      "  1.]\n",
      " [1. 1. 1. 1. 1. 1. 1. 1. 1. 1. 1. 1. 1. 1. 1. 1. 1. 1. 1. 1. 1. 1. 1. 1.\n",
      "  1.]\n",
      " [1. 1. 1. 1. 1. 1. 1. 1. 1. 1. 1. 1. 1. 1. 1. 1. 1. 1. 1. 1. 1. 1. 1. 1.\n",
      "  1.]\n",
      " [1. 1. 1. 1. 1. 1. 1. 1. 1. 1. 1. 1. 1. 1. 1. 1. 1. 1. 1. 1. 1. 1. 1. 1.\n",
      "  1.]\n",
      " [1. 1. 1. 1. 1. 1. 1. 1. 1. 1. 1. 1. 1. 1. 1. 1. 1. 1. 1. 1. 1. 1. 1. 1.\n",
      "  1.]\n",
      " [1. 1. 1. 1. 1. 1. 1. 1. 1. 1. 1. 1. 1. 1. 1. 1. 1. 1. 1. 1. 1. 1. 1. 1.\n",
      "  1.]\n",
      " [1. 1. 1. 1. 1. 1. 1. 1. 1. 1. 1. 1. 1. 1. 1. 1. 1. 1. 1. 1. 1. 1. 1. 1.\n",
      "  1.]\n",
      " [1. 1. 1. 1. 1. 1. 1. 1. 1. 1. 1. 1. 1. 1. 1. 1. 1. 1. 1. 1. 1. 1. 1. 1.\n",
      "  1.]\n",
      " [1. 1. 1. 1. 1. 1. 1. 1. 1. 1. 1. 1. 1. 1. 1. 1. 1. 1. 1. 1. 1. 1. 1. 1.\n",
      "  1.]\n",
      " [1. 1. 1. 1. 1. 1. 1. 1. 1. 1. 1. 1. 1. 1. 1. 1. 1. 1. 1. 1. 1. 1. 1. 1.\n",
      "  1.]\n",
      " [1. 1. 1. 1. 1. 1. 1. 1. 1. 1. 1. 1. 1. 1. 1. 1. 1. 1. 1. 1. 1. 1. 1. 1.\n",
      "  1.]]\n",
      "[[25. 25. 25. 25. 25.]\n",
      " [25. 25. 25. 25. 25.]\n",
      " [25. 25. 25. 25. 25.]\n",
      " [25. 25. 25. 25. 25.]\n",
      " [25. 25. 25. 25. 25.]]\n"
     ]
    }
   ],
   "source": [
    "#numpy program get the block sum of the value \n",
    "a11=np.ones((25,25))\n",
    "k=5\n",
    "print(a11)\n",
    "result=np.add.reduceat(np.add.reduceat(a11,np.arange(0, a11.shape[0],k),axis=0),np.arange(0,a11.shape[1],k),axis=1)\n",
    "print(result)\n"
   ]
  },
  {
   "cell_type": "code",
   "execution_count": 15,
   "metadata": {},
   "outputs": [
    {
     "name": "stdout",
     "output_type": "stream",
     "text": [
      "[['ram' '50' '98']\n",
      " ['sam' '87' '98']\n",
      " ['bam' '85' '78']]\n",
      "[(b'ram', 50., 98) (b'sam', 87., 98) (b'bam', 85., 78)]\n"
     ]
    }
   ],
   "source": [
    "#creat a record of given numpy array\n",
    "a1=np.array([('ram',50,98),\n",
    "            ('sam',87,98),\n",
    "            ('bam',85,78)])\n",
    "print(a1)\n",
    "#creat record of the array\n",
    "result=np.core.records.fromarrays(a1.T,names='col1,col2,col3',\n",
    "                                formats='S80,f8,i8')\n",
    "print(result)"
   ]
  },
  {
   "cell_type": "code",
   "execution_count": 16,
   "metadata": {},
   "outputs": [
    {
     "name": "stdout",
     "output_type": "stream",
     "text": [
      "Original arrays:\n",
      "[['Yasemin Rayner' '88.5' '90']\n",
      " ['Ayaana Mcnamara' '87' '99']\n",
      " ['Jody Preece' '85.5' '91']]\n",
      "\n",
      "Record array;\n",
      "[(b'Yasemin Rayner', 88.5, 90) (b'Ayaana Mcnamara', 87. , 99)\n",
      " (b'Jody Preece', 85.5, 91)]\n"
     ]
    }
   ],
   "source": [
    "import numpy as np\n",
    "arra1 = np.array([(\"Yasemin Rayner\", 88.5, 90),\n",
    "                 (\"Ayaana Mcnamara\", 87, 99),\n",
    "             (\"Jody Preece\", 85.5, 91)])\n",
    "print(\"Original arrays:\")\n",
    "print(arra1)\n",
    "print(\"\\nRecord array;\")\n",
    "result = np.core.records.fromarrays(arra1.T,\n",
    "                              names='col1, col2, col3',\n",
    "                              formats = 'S80, f8, i8')\n",
    "print(result)\n"
   ]
  },
  {
   "cell_type": "code",
   "execution_count": 17,
   "metadata": {},
   "outputs": [
    {
     "name": "stdout",
     "output_type": "stream",
     "text": [
      "Original arrays:\n",
      "[[2 5 4 5]\n",
      " [5 3 3 1]\n",
      " [5 4 5 1]\n",
      " [4 5 3 1]\n",
      " [5 3 2 2]\n",
      " [0 0 4 4]]\n",
      "\n",
      " [[0 5 5]\n",
      " [0 2 0]]\n",
      "\n",
      "Rows of a given array that contain elements of each row of another given array:\n",
      "[0 2 4 5]\n"
     ]
    }
   ],
   "source": [
    "import numpy as np\n",
    "nums1 = np.random.randint(0,6,(6,4))\n",
    "nums2 = np.random.randint(0,6,(2,3))\n",
    "print(\"Original arrays:\")\n",
    "print(nums1)\n",
    "print(\"\\n\",nums2)\n",
    "temp = (nums1[..., np.newaxis, np.newaxis] == nums2)\n",
    "rows = (temp.sum(axis=(1,2,3)) >= nums2.shape[1]).nonzero()[0]\n",
    "print(\"\\nRows of a given array that contain elements of each row of another given array:\")\n",
    "print(rows)"
   ]
  },
  {
   "cell_type": "code",
   "execution_count": 18,
   "metadata": {},
   "outputs": [
    {
     "name": "stdout",
     "output_type": "stream",
     "text": [
      "original array\n",
      "[[0 1 4 4]\n",
      " [2 5 1 1]\n",
      " [1 4 1 4]\n",
      " [0 4 3 4]\n",
      " [3 5 5 4]\n",
      " [4 4 1 4]]\n",
      "\n",
      " [[5 3 2]\n",
      " [4 3 5]]\n"
     ]
    },
    {
     "ename": "AttributeError",
     "evalue": "'int' object has no attribute 'nonzero'",
     "output_type": "error",
     "traceback": [
      "\u001b[1;31m---------------------------------------------------------------------------\u001b[0m",
      "\u001b[1;31mAttributeError\u001b[0m                            Traceback (most recent call last)",
      "\u001b[1;32m<ipython-input-18-f49a743cbd16>\u001b[0m in \u001b[0;36m<module>\u001b[1;34m\u001b[0m\n\u001b[0;32m      5\u001b[0m \u001b[0mprint\u001b[0m\u001b[1;33m(\u001b[0m\u001b[1;34m\"\\n\"\u001b[0m\u001b[1;33m,\u001b[0m\u001b[0mn2\u001b[0m\u001b[1;33m)\u001b[0m\u001b[1;33m\u001b[0m\u001b[1;33m\u001b[0m\u001b[0m\n\u001b[0;32m      6\u001b[0m \u001b[0mtemp\u001b[0m\u001b[1;33m=\u001b[0m\u001b[1;33m(\u001b[0m\u001b[0mnums1\u001b[0m\u001b[1;33m[\u001b[0m\u001b[1;33m...\u001b[0m\u001b[1;33m,\u001b[0m\u001b[0mnp\u001b[0m\u001b[1;33m.\u001b[0m\u001b[0mnewaxis\u001b[0m\u001b[1;33m,\u001b[0m\u001b[0mnp\u001b[0m\u001b[1;33m.\u001b[0m\u001b[0mnewaxis\u001b[0m\u001b[1;33m]\u001b[0m\u001b[1;33m==\u001b[0m\u001b[0mnums2\u001b[0m\u001b[1;33m)\u001b[0m\u001b[1;33m\u001b[0m\u001b[1;33m\u001b[0m\u001b[0m\n\u001b[1;32m----> 7\u001b[1;33m \u001b[0mrows\u001b[0m\u001b[1;33m=\u001b[0m\u001b[1;33m(\u001b[0m\u001b[0mtemp\u001b[0m\u001b[1;33m.\u001b[0m\u001b[0msum\u001b[0m\u001b[1;33m(\u001b[0m\u001b[0maxis\u001b[0m\u001b[1;33m=\u001b[0m\u001b[1;33m(\u001b[0m\u001b[1;36m1\u001b[0m\u001b[1;33m,\u001b[0m\u001b[1;36m2\u001b[0m\u001b[1;33m,\u001b[0m\u001b[1;36m3\u001b[0m\u001b[1;33m)\u001b[0m\u001b[1;33m)\u001b[0m\u001b[1;33m>=\u001b[0m\u001b[0mnums2\u001b[0m\u001b[1;33m.\u001b[0m\u001b[0mshape\u001b[0m\u001b[1;33m[\u001b[0m\u001b[1;36m1\u001b[0m\u001b[1;33m]\u001b[0m\u001b[1;33m.\u001b[0m\u001b[0mnonzero\u001b[0m\u001b[1;33m(\u001b[0m\u001b[1;33m)\u001b[0m\u001b[1;33m)\u001b[0m\u001b[1;33m[\u001b[0m\u001b[1;36m0\u001b[0m\u001b[1;33m]\u001b[0m\u001b[1;33m\u001b[0m\u001b[1;33m\u001b[0m\u001b[0m\n\u001b[0m\u001b[0;32m      8\u001b[0m \u001b[0mprint\u001b[0m\u001b[1;33m(\u001b[0m\u001b[0mrows\u001b[0m\u001b[1;33m)\u001b[0m\u001b[1;33m\u001b[0m\u001b[1;33m\u001b[0m\u001b[0m\n",
      "\u001b[1;31mAttributeError\u001b[0m: 'int' object has no attribute 'nonzero'"
     ]
    }
   ],
   "source": [
    "n1=np.random.randint(0,6,(6,4))\n",
    "n2=np.random.randint(0,6,(2,3))\n",
    "print(\"original array\")\n",
    "print(n1)\n",
    "print(\"\\n\",n2)\n",
    "temp=(nums1[...,np.newaxis,np.newaxis]==nums2)\n",
    "rows=(temp.sum(axis=(1,2,3))>=nums2.shape[1].nonzero())[0]\n",
    "print(rows)"
   ]
  },
  {
   "cell_type": "code",
   "execution_count": 20,
   "metadata": {},
   "outputs": [
    {
     "name": "stdout",
     "output_type": "stream",
     "text": [
      "Original vector:\n",
      "[[3 2 3]\n",
      " [1 1 0]\n",
      " [2 2 3]\n",
      " [1 0 2]\n",
      " [3 3 3]\n",
      " [1 1 1]]\n",
      "\n",
      "Rows with unequal values:\n",
      "[[3 2 3]\n",
      " [1 1 0]\n",
      " [2 2 3]\n",
      " [1 0 2]]\n"
     ]
    }
   ],
   "source": [
    "#import numpy as np\n",
    "nums = np.random.randint(0,4,(6,3))\n",
    "print(\"Original vector:\")\n",
    "print(nums)\n",
    "new_nums = np.logical_and.reduce(nums[:,1:] == nums[:,:-1], axis=1)\n",
    "result = nums[~new_nums]\n",
    "print(\"\\nRows with unequal values:\")\n",
    "print(result)"
   ]
  },
  {
   "cell_type": "code",
   "execution_count": 21,
   "metadata": {},
   "outputs": [
    {
     "name": "stdout",
     "output_type": "stream",
     "text": [
      "[[0 1 2]\n",
      " [3 1 0]\n",
      " [3 1 1]\n",
      " [0 3 2]\n",
      " [1 1 1]\n",
      " [0 0 2]]\n",
      "[[0 1 2]\n",
      " [3 1 0]\n",
      " [3 1 1]\n",
      " [0 3 2]\n",
      " [0 0 2]]\n"
     ]
    }
   ],
   "source": [
    "nums=np.random.randint(0,4,(6,3))\n",
    "print(nums)\n",
    "new_nums=np.logical_and.reduce(nums[:,1:]==nums[:,:-1],axis=1)\n",
    "result=nums[~new_nums]\n",
    "print(result)"
   ]
  },
  {
   "cell_type": "code",
   "execution_count": 22,
   "metadata": {},
   "outputs": [
    {
     "name": "stderr",
     "output_type": "stream",
     "text": [
      "<>:1: SyntaxWarning: 'int' object is not callable; perhaps you missed a comma?\n",
      "<>:1: SyntaxWarning: 'int' object is not callable; perhaps you missed a comma?\n",
      "<ipython-input-22-9fad518e7dc6>:1: SyntaxWarning: 'int' object is not callable; perhaps you missed a comma?\n",
      "  nums=np.random.randint(0,4(6,3))\n"
     ]
    },
    {
     "ename": "TypeError",
     "evalue": "'int' object is not callable",
     "output_type": "error",
     "traceback": [
      "\u001b[1;31m---------------------------------------------------------------------------\u001b[0m",
      "\u001b[1;31mTypeError\u001b[0m                                 Traceback (most recent call last)",
      "\u001b[1;32m<ipython-input-22-9fad518e7dc6>\u001b[0m in \u001b[0;36m<module>\u001b[1;34m\u001b[0m\n\u001b[1;32m----> 1\u001b[1;33m \u001b[0mnums\u001b[0m\u001b[1;33m=\u001b[0m\u001b[0mnp\u001b[0m\u001b[1;33m.\u001b[0m\u001b[0mrandom\u001b[0m\u001b[1;33m.\u001b[0m\u001b[0mrandint\u001b[0m\u001b[1;33m(\u001b[0m\u001b[1;36m0\u001b[0m\u001b[1;33m,\u001b[0m\u001b[1;36m4\u001b[0m\u001b[1;33m(\u001b[0m\u001b[1;36m6\u001b[0m\u001b[1;33m,\u001b[0m\u001b[1;36m3\u001b[0m\u001b[1;33m)\u001b[0m\u001b[1;33m)\u001b[0m\u001b[1;33m\u001b[0m\u001b[1;33m\u001b[0m\u001b[0m\n\u001b[0m\u001b[0;32m      2\u001b[0m \u001b[0mprint\u001b[0m\u001b[1;33m(\u001b[0m\u001b[0mnums\u001b[0m\u001b[1;33m)\u001b[0m\u001b[1;33m\u001b[0m\u001b[1;33m\u001b[0m\u001b[0m\n\u001b[0;32m      3\u001b[0m \u001b[0mnew_nums\u001b[0m\u001b[1;33m=\u001b[0m\u001b[0mnp\u001b[0m\u001b[1;33m.\u001b[0m\u001b[0mlogical_and\u001b[0m\u001b[1;33m.\u001b[0m\u001b[0mreduce\u001b[0m\u001b[1;33m(\u001b[0m\u001b[0mnums\u001b[0m\u001b[1;33m[\u001b[0m\u001b[1;33m:\u001b[0m\u001b[1;33m,\u001b[0m\u001b[1;36m1\u001b[0m\u001b[1;33m:\u001b[0m\u001b[1;33m]\u001b[0m\u001b[1;33m==\u001b[0m\u001b[0mnums\u001b[0m\u001b[1;33m[\u001b[0m\u001b[1;33m:\u001b[0m\u001b[1;33m,\u001b[0m\u001b[1;33m:\u001b[0m\u001b[1;33m-\u001b[0m\u001b[1;36m1\u001b[0m\u001b[1;33m]\u001b[0m\u001b[1;33m,\u001b[0m\u001b[0maxis\u001b[0m\u001b[1;33m=\u001b[0m\u001b[1;36m1\u001b[0m\u001b[1;33m)\u001b[0m\u001b[1;33m\u001b[0m\u001b[1;33m\u001b[0m\u001b[0m\n\u001b[0;32m      4\u001b[0m \u001b[0mresult\u001b[0m\u001b[1;33m=\u001b[0m\u001b[0mnums\u001b[0m\u001b[1;33m[\u001b[0m\u001b[1;33m~\u001b[0m\u001b[1;33m[\u001b[0m\u001b[0mnew_nums\u001b[0m\u001b[1;33m]\u001b[0m\u001b[1;33m]\u001b[0m\u001b[1;33m\u001b[0m\u001b[1;33m\u001b[0m\u001b[0m\n\u001b[0;32m      5\u001b[0m \u001b[0mprint\u001b[0m\u001b[1;33m(\u001b[0m\u001b[0mresult\u001b[0m\u001b[1;33m)\u001b[0m\u001b[1;33m\u001b[0m\u001b[1;33m\u001b[0m\u001b[0m\n",
      "\u001b[1;31mTypeError\u001b[0m: 'int' object is not callable"
     ]
    }
   ],
   "source": [
    "nums=np.random.randint(0,4(6,3))\n",
    "print(nums)\n",
    "new_nums=np.logical_and.reduce(nums[:,1:]==nums[:,:-1],axis=1)\n",
    "result=nums[~[new_nums]]\n",
    "print(result)"
   ]
  },
  {
   "cell_type": "code",
   "execution_count": 23,
   "metadata": {},
   "outputs": [
    {
     "name": "stdout",
     "output_type": "stream",
     "text": [
      "Original vector:\n",
      "[ 0  1  3  5  7  9 11 13 15]\n",
      "\n",
      "Binary representation of the said vector:\n",
      "[[0 0 0 0 0 0 0 0]\n",
      " [0 0 0 0 0 0 0 1]\n",
      " [0 0 0 0 0 0 1 1]\n",
      " [0 0 0 0 0 1 0 1]\n",
      " [0 0 0 0 0 1 1 1]\n",
      " [0 0 0 0 1 0 0 1]\n",
      " [0 0 0 0 1 0 1 1]\n",
      " [0 0 0 0 1 1 0 1]\n",
      " [0 0 0 0 1 1 1 1]]\n"
     ]
    }
   ],
   "source": [
    "#given vector representation to binery represtation\n",
    "import numpy as np\n",
    "nums = np.array([0, 1, 3, 5, 7, 9, 11, 13, 15])\n",
    "print(\"Original vector:\")\n",
    "print(nums)\n",
    "bin_nums = ((nums.reshape(-1,1) & (2**np.arange(8))) != 0).astype(int)\n",
    "print(\"\\nBinary representation of the said vector:\")\n",
    "print(bin_nums[:,::-1])"
   ]
  },
  {
   "cell_type": "code",
   "execution_count": null,
   "metadata": {},
   "outputs": [],
   "source": [
    "nums=np.array([0,1,3,5,7,9,11,13,15])\n",
    "print(\"orginal array\")\n",
    "print(nums)\n",
    "bin_numas=((nums.reshape(-1,1)& (2**np.average(8)))!=0).astype(int)\n",
    "print(\"\\n binery reprsentation of the array\")\n",
    "print(bin_nums[:,::-1])"
   ]
  },
  {
   "cell_type": "code",
   "execution_count": 24,
   "metadata": {},
   "outputs": [
    {
     "name": "stdout",
     "output_type": "stream",
     "text": [
      "Original array:\n",
      "[[[1. 1. 1.]\n",
      "  [1. 1. 1.]]\n",
      "\n",
      " [[1. 1. 1.]\n",
      "  [1. 1. 1.]]]\n",
      "\n",
      "New array:\n",
      "[[[3. 3. 3.]\n",
      "  [3. 3. 3.]]\n",
      "\n",
      " [[3. 3. 3.]\n",
      "  [3. 3. 3.]]]\n"
     ]
    }
   ],
   "source": [
    "#multiply of an arry dimension 2,2,3 to 2,2\n",
    "import numpy as np\n",
    "nums1 = np.ones((2,2,3))\n",
    "nums2 = 3*np.ones((2,2))\n",
    "print(\"Original array:\")\n",
    "print(nums1)\n",
    "new_array = nums1 * nums2[:,:,None]\n",
    "print(\"\\nNew array:\")\n",
    "print(new_array)"
   ]
  },
  {
   "cell_type": "code",
   "execution_count": 25,
   "metadata": {},
   "outputs": [
    {
     "name": "stdout",
     "output_type": "stream",
     "text": [
      "[[[1. 1. 1.]\n",
      "  [1. 1. 1.]]\n",
      "\n",
      " [[1. 1. 1.]\n",
      "  [1. 1. 1.]]]\n"
     ]
    },
    {
     "ename": "IndexError",
     "evalue": "too many indices for array: array is 1-dimensional, but 2 were indexed",
     "output_type": "error",
     "traceback": [
      "\u001b[1;31m---------------------------------------------------------------------------\u001b[0m",
      "\u001b[1;31mIndexError\u001b[0m                                Traceback (most recent call last)",
      "\u001b[1;32m<ipython-input-25-53f97fcf97a5>\u001b[0m in \u001b[0;36m<module>\u001b[1;34m\u001b[0m\n\u001b[0;32m      3\u001b[0m \u001b[0mnum2\u001b[0m\u001b[1;33m=\u001b[0m\u001b[1;36m3\u001b[0m\u001b[1;33m*\u001b[0m\u001b[0mnp\u001b[0m\u001b[1;33m.\u001b[0m\u001b[0mones\u001b[0m\u001b[1;33m(\u001b[0m\u001b[1;33m(\u001b[0m\u001b[1;36m2\u001b[0m\u001b[1;33m,\u001b[0m\u001b[1;36m2\u001b[0m\u001b[1;33m)\u001b[0m\u001b[1;33m)\u001b[0m\u001b[1;33m\u001b[0m\u001b[1;33m\u001b[0m\u001b[0m\n\u001b[0;32m      4\u001b[0m \u001b[0mprint\u001b[0m\u001b[1;33m(\u001b[0m\u001b[0mnums1\u001b[0m\u001b[1;33m)\u001b[0m\u001b[1;33m\u001b[0m\u001b[1;33m\u001b[0m\u001b[0m\n\u001b[1;32m----> 5\u001b[1;33m \u001b[0mnew_array\u001b[0m\u001b[1;33m=\u001b[0m\u001b[0mnums1\u001b[0m\u001b[1;33m*\u001b[0m\u001b[0mnums\u001b[0m\u001b[1;33m[\u001b[0m\u001b[1;33m:\u001b[0m\u001b[1;33m,\u001b[0m\u001b[1;33m:\u001b[0m\u001b[1;33m,\u001b[0m\u001b[1;32mNone\u001b[0m\u001b[1;33m]\u001b[0m\u001b[1;33m\u001b[0m\u001b[1;33m\u001b[0m\u001b[0m\n\u001b[0m\u001b[0;32m      6\u001b[0m \u001b[0mprint\u001b[0m\u001b[1;33m(\u001b[0m\u001b[0mnew_array\u001b[0m\u001b[1;33m)\u001b[0m\u001b[1;33m\u001b[0m\u001b[1;33m\u001b[0m\u001b[0m\n",
      "\u001b[1;31mIndexError\u001b[0m: too many indices for array: array is 1-dimensional, but 2 were indexed"
     ]
    }
   ],
   "source": [
    "import numpy as np\n",
    "num1=np.ones((2,2,3))\n",
    "num2=3*np.ones((2,2))\n",
    "print(nums1)\n",
    "new_array=nums1*nums[:,:,None]\n",
    "print(new_array)"
   ]
  },
  {
   "cell_type": "code",
   "execution_count": 26,
   "metadata": {},
   "outputs": [
    {
     "name": "stdout",
     "output_type": "stream",
     "text": [
      "Original Dataframe:\n",
      "   carat      cut color clarity  depth  table  price     x     y     z\n",
      "0   0.23    Ideal     E     SI2   61.5   55.0    326  3.95  3.98  2.43\n",
      "1   0.21  Premium     E     SI1   59.8   61.0    326  3.89  3.84  2.31\n",
      "2   0.23     Good     E     VS1   56.9   65.0    327  4.05  4.07  2.31\n",
      "3   0.29  Premium     I     VS2   62.4   58.0    334  4.20  4.23  2.63\n",
      "4   0.31     Good     J     SI2   63.3   58.0    335  4.34  4.35  2.75\n",
      "\n",
      "After renaming all the columns of the said dataframe:\n",
      "   new_carat  new_cut new_color new_clarity  new_depth  new_table  new_price  \\\n",
      "0       0.23    Ideal         E         SI2       61.5       55.0        326   \n",
      "1       0.21  Premium         E         SI1       59.8       61.0        326   \n",
      "2       0.23     Good         E         VS1       56.9       65.0        327   \n",
      "3       0.29  Premium         I         VS2       62.4       58.0        334   \n",
      "4       0.31     Good         J         SI2       63.3       58.0        335   \n",
      "\n",
      "   new_x  new_y  new_z  \n",
      "0   3.95   3.98   2.43  \n",
      "1   3.89   3.84   2.31  \n",
      "2   4.05   4.07   2.31  \n",
      "3   4.20   4.23   2.63  \n",
      "4   4.34   4.35   2.75  \n"
     ]
    }
   ],
   "source": [
    "import pandas as pd\n",
    "diamonds = pd.read_csv('https://raw.githubusercontent.com/mwaskom/seaborn-data/master/diamonds.csv') \n",
    "print(\"Original Dataframe:\")\n",
    "print(diamonds.head())\n",
    "diamonds_cols = ['new_carat', 'new_cut', 'new_color', 'new_clarity', 'new_depth', 'new_table', 'new_price', 'new_x', 'new_y', 'new_z']\n",
    "diamonds.columns = diamonds_cols\n",
    "print(\"\\nAfter renaming all the columns of the said dataframe:\")\n",
    "diamonds.rename(columns={'color':'diamond_color', 'clarity':'dimaond_clarity'}, inplace=True)\n",
    "print(diamonds.head())\n"
   ]
  },
  {
   "cell_type": "code",
   "execution_count": 27,
   "metadata": {},
   "outputs": [
    {
     "data": {
      "text/plain": [
       "0    1\n",
       "1    2\n",
       "2    4\n",
       "3    5\n",
       "4    6\n",
       "5    7\n",
       "dtype: int64"
      ]
     },
     "execution_count": 27,
     "metadata": {},
     "output_type": "execute_result"
    }
   ],
   "source": [
    "#convet python list to pandas series\n",
    "l=[1,2,4,5,6,7]\n",
    "pd.Series(l)"
   ]
  },
  {
   "cell_type": "code",
   "execution_count": 28,
   "metadata": {},
   "outputs": [
    {
     "name": "stdout",
     "output_type": "stream",
     "text": [
      "Original Dataframe:\n",
      "   carat      cut color clarity  depth  table  price     x     y     z\n",
      "0   0.23    Ideal     E     SI2   61.5   55.0    326  3.95  3.98  2.43\n",
      "1   0.21  Premium     E     SI1   59.8   61.0    326  3.89  3.84  2.31\n",
      "2   0.23     Good     E     VS1   56.9   65.0    327  4.05  4.07  2.31\n",
      "3   0.29  Premium     I     VS2   62.4   58.0    334  4.20  4.23  2.63\n",
      "4   0.31     Good     J     SI2   63.3   58.0    335  4.34  4.35  2.75\n",
      "\n",
      "Diamonds where length>5, width>5 and depth>5:\n",
      "       carat   cut color clarity  depth  table  price     x     y     z\n",
      "11778   1.83  Fair     J      I1   70.0   58.0   5083  7.34  7.28  5.12\n",
      "13002   2.14  Fair     J      I1   69.4   57.0   5405  7.74  7.70  5.36\n",
      "13118   2.15  Fair     J      I1   65.5   57.0   5430  8.01  7.95  5.23\n",
      "13562   1.96  Fair     F      I1   66.6   60.0   5554  7.59  7.56  5.04\n",
      "13757   2.22  Fair     J      I1   66.7   56.0   5607  8.04  8.02  5.36\n"
     ]
    }
   ],
   "source": [
    "import pandas as pd\n",
    "diamonds = pd.read_csv('https://raw.githubusercontent.com/mwaskom/seaborn-data/master/diamonds.csv')\n",
    "print(\"Original Dataframe:\")\n",
    "print(diamonds.head())\n",
    "print(\"\\nDiamonds where length>5, width>5 and depth>5:\")\n",
    "result = diamonds[(diamonds.x>5) & (diamonds.y>5) & (diamonds.z>5)]\n",
    "print(result.head())"
   ]
  },
  {
   "cell_type": "code",
   "execution_count": 29,
   "metadata": {},
   "outputs": [
    {
     "name": "stdout",
     "output_type": "stream",
     "text": [
      "   carat      cut color clarity  depth  table  price     x     y     z\n",
      "0   0.23    Ideal     E     SI2   61.5   55.0    326  3.95  3.98  2.43\n",
      "1   0.21  Premium     E     SI1   59.8   61.0    326  3.89  3.84  2.31\n",
      "2   0.23     Good     E     VS1   56.9   65.0    327  4.05  4.07  2.31\n",
      "3   0.29  Premium     I     VS2   62.4   58.0    334  4.20  4.23  2.63\n",
      "4   0.31     Good     J     SI2   63.3   58.0    335  4.34  4.35  2.75\n",
      "\n",
      " diamonds lenth>5,width>5 and depth>5\n",
      "       carat   cut color clarity  depth  table  price     x     y     z\n",
      "11778   1.83  Fair     J      I1   70.0   58.0   5083  7.34  7.28  5.12\n",
      "13002   2.14  Fair     J      I1   69.4   57.0   5405  7.74  7.70  5.36\n",
      "13118   2.15  Fair     J      I1   65.5   57.0   5430  8.01  7.95  5.23\n",
      "13562   1.96  Fair     F      I1   66.6   60.0   5554  7.59  7.56  5.04\n",
      "13757   2.22  Fair     J      I1   66.7   56.0   5607  8.04  8.02  5.36\n"
     ]
    }
   ],
   "source": [
    "diamonds = pd.read_csv('https://raw.githubusercontent.com/mwaskom/seaborn-data/master/diamonds.csv')\n",
    "print(diamonds.head())\n",
    "print(\"\\n diamonds lenth>5,width>5 and depth>5\")\n",
    "result=diamonds[(diamonds.x>5)& (diamonds.y>5)&(diamonds.z>5)]\n",
    "print(result.head())"
   ]
  },
  {
   "cell_type": "code",
   "execution_count": 30,
   "metadata": {},
   "outputs": [
    {
     "name": "stdout",
     "output_type": "stream",
     "text": [
      "   carat      cut color clarity  depth  table  price     x     y     z\n",
      "0   0.23    Ideal     E     SI2   61.5   55.0    326  3.95  3.98  2.43\n",
      "1   0.21  Premium     E     SI1   59.8   61.0    326  3.89  3.84  2.31\n",
      "2   0.23     Good     E     VS1   56.9   65.0    327  4.05  4.07  2.31\n",
      "3   0.29  Premium     I     VS2   62.4   58.0    334  4.20  4.23  2.63\n",
      "4   0.31     Good     J     SI2   63.3   58.0    335  4.34  4.35  2.75\n",
      "Empty DataFrame\n",
      "Columns: [carat, cut, color, clarity, depth, table, price, x, y, z]\n",
      "Index: []\n"
     ]
    }
   ],
   "source": [
    "#find the diamond are premimum are idel\n",
    "print(diamonds.head())\n",
    "result=diamonds[(diamonds.cut=='premimum')|(diamonds.cut=='idel')]\n",
    "print(result)"
   ]
  },
  {
   "cell_type": "code",
   "execution_count": 31,
   "metadata": {},
   "outputs": [
    {
     "name": "stdout",
     "output_type": "stream",
     "text": [
      "Original Dataframe:\n",
      "   carat      cut color clarity  depth  table  price     x     y     z\n",
      "0   0.23    Ideal     E     SI2   61.5   55.0    326  3.95  3.98  2.43\n",
      "1   0.21  Premium     E     SI1   59.8   61.0    326  3.89  3.84  2.31\n",
      "2   0.23     Good     E     VS1   56.9   65.0    327  4.05  4.07  2.31\n",
      "3   0.29  Premium     I     VS2   62.4   58.0    334  4.20  4.23  2.63\n",
      "4   0.31     Good     J     SI2   63.3   58.0    335  4.34  4.35  2.75\n",
      "\n",
      "Diamonds that are with a Fair or Good or Premium:\n",
      "   carat      cut color clarity  depth  table  price     x     y     z\n",
      "1   0.21  Premium     E     SI1   59.8   61.0    326  3.89  3.84  2.31\n",
      "2   0.23     Good     E     VS1   56.9   65.0    327  4.05  4.07  2.31\n",
      "3   0.29  Premium     I     VS2   62.4   58.0    334  4.20  4.23  2.63\n",
      "4   0.31     Good     J     SI2   63.3   58.0    335  4.34  4.35  2.75\n",
      "8   0.22     Fair     E     VS2   65.1   61.0    337  3.87  3.78  2.49\n"
     ]
    }
   ],
   "source": [
    "#find the diamonds fair good our primium\n",
    "import pandas as pd\n",
    "diamonds = pd.read_csv('https://raw.githubusercontent.com/mwaskom/seaborn-data/master/diamonds.csv')\n",
    "print(\"Original Dataframe:\")\n",
    "print(diamonds.head())\n",
    "print(\"\\nDiamonds that are with a Fair or Good or Premium:\")\n",
    "result = diamonds[diamonds.cut.isin(['Fair', 'Good', 'Premium'])]\n",
    "print(result.head())\n"
   ]
  },
  {
   "cell_type": "code",
   "execution_count": 32,
   "metadata": {},
   "outputs": [
    {
     "name": "stdout",
     "output_type": "stream",
     "text": [
      "\n",
      " diamonds are fair good aur primum\n",
      "Empty DataFrame\n",
      "Columns: [carat, cut, color, clarity, depth, table, price, x, y, z]\n",
      "Index: []\n"
     ]
    }
   ],
   "source": [
    "print(\"\\n diamonds are fair good aur primum\")\n",
    "result=diamonds[diamonds.cut.isin(['fair','good','premimum'])]\n",
    "print(result.head())"
   ]
  },
  {
   "cell_type": "code",
   "execution_count": 33,
   "metadata": {},
   "outputs": [
    {
     "name": "stdout",
     "output_type": "stream",
     "text": [
      "Index(['carat', 'cut', 'color', 'clarity', 'depth', 'table', 'price', 'x', 'y',\n",
      "       'z'],\n",
      "      dtype='object')\n"
     ]
    }
   ],
   "source": [
    "#display all the column label of the data frame\n",
    "print(diamonds.columns)"
   ]
  },
  {
   "cell_type": "code",
   "execution_count": 34,
   "metadata": {},
   "outputs": [
    {
     "name": "stdout",
     "output_type": "stream",
     "text": [
      "Original Dataframe:\n",
      "   carat      cut color clarity  depth  table  price     x     y     z\n",
      "0   0.23    Ideal     E     SI2   61.5   55.0    326  3.95  3.98  2.43\n",
      "1   0.21  Premium     E     SI1   59.8   61.0    326  3.89  3.84  2.31\n",
      "2   0.23     Good     E     VS1   56.9   65.0    327  4.05  4.07  2.31\n",
      "3   0.29  Premium     I     VS2   62.4   58.0    334  4.20  4.23  2.63\n",
      "4   0.31     Good     J     SI2   63.3   58.0    335  4.34  4.35  2.75\n",
      "\n",
      "Subset of 3 rows from diamonds DataFrame:\n",
      "          City  Colors Reported Shape Reported State             Time\n",
      "0       Ithaca              NaN       TRIANGLE    NY   6/1/1930 22:00\n",
      "1  Willingboro              NaN          OTHER    NJ  6/30/1930 20:00\n",
      "2      Holyoke              NaN           OVAL    CO  2/15/1931 14:00\n"
     ]
    }
   ],
   "source": [
    "import pandas as pd\n",
    "diamonds = pd.read_csv('https://raw.githubusercontent.com/mwaskom/seaborn-data/master/diamonds.csv')\n",
    "print(\"Original Dataframe:\")\n",
    "print(diamonds.head())\n",
    "print(\"\\nSubset of 3 rows from diamonds DataFrame:\")\n",
    "result = pd.read_csv('http://bit.ly/uforeports', nrows=3)\n",
    "print(result.head())\n"
   ]
  },
  {
   "cell_type": "code",
   "execution_count": 35,
   "metadata": {},
   "outputs": [
    {
     "ename": "TypeError",
     "evalue": "'nrows' is an invalid keyword argument for print()",
     "output_type": "error",
     "traceback": [
      "\u001b[1;31m---------------------------------------------------------------------------\u001b[0m",
      "\u001b[1;31mTypeError\u001b[0m                                 Traceback (most recent call last)",
      "\u001b[1;32m<ipython-input-35-cae2918b9e04>\u001b[0m in \u001b[0;36m<module>\u001b[1;34m\u001b[0m\n\u001b[0;32m      1\u001b[0m \u001b[1;31m#print only 3 rows of the data frame\u001b[0m\u001b[1;33m\u001b[0m\u001b[1;33m\u001b[0m\u001b[1;33m\u001b[0m\u001b[0m\n\u001b[1;32m----> 2\u001b[1;33m \u001b[0mresult\u001b[0m\u001b[1;33m=\u001b[0m\u001b[0mprint\u001b[0m\u001b[1;33m(\u001b[0m\u001b[0mdiamonds\u001b[0m\u001b[1;33m,\u001b[0m\u001b[0mnrows\u001b[0m\u001b[1;33m=\u001b[0m\u001b[1;36m3\u001b[0m\u001b[1;33m)\u001b[0m\u001b[1;33m\u001b[0m\u001b[1;33m\u001b[0m\u001b[0m\n\u001b[0m\u001b[0;32m      3\u001b[0m \u001b[0mprint\u001b[0m\u001b[1;33m(\u001b[0m\u001b[0mresult\u001b[0m\u001b[1;33m.\u001b[0m\u001b[0mhead\u001b[0m\u001b[1;33m(\u001b[0m\u001b[1;33m)\u001b[0m\u001b[1;33m)\u001b[0m\u001b[1;33m\u001b[0m\u001b[1;33m\u001b[0m\u001b[0m\n",
      "\u001b[1;31mTypeError\u001b[0m: 'nrows' is an invalid keyword argument for print()"
     ]
    }
   ],
   "source": [
    "#print only 3 rows of the data frame\n",
    "result=print(diamonds,nrows=3)\n",
    "print(result.head())"
   ]
  },
  {
   "cell_type": "code",
   "execution_count": null,
   "metadata": {},
   "outputs": [],
   "source": [
    "import pandas as pd\n",
    "diamonds = pd.read_csv('https://raw.githubusercontent.com/mwaskom/seaborn-data/master/diamonds.csv')\n",
    "print(\"Original Dataframe:\")\n",
    "print(diamonds.head())\n",
    "print(\"\\nIterate through diamonds DataFrame:\")\n",
    "for index, row in diamonds.iterrows():\n",
    "   print(index, row.carat, row.cut, row.color, row.price)"
   ]
  },
  {
   "cell_type": "code",
   "execution_count": null,
   "metadata": {},
   "outputs": [],
   "source": [
    "print(\"\\n iterte through the diamnd data frame\")\n",
    "print(diamonds.head())\n",
    "print('iterate through the diamonds dataframe')\n",
    "for index ,row in diamonds.iterrows():\n",
    "    print(index,row.carat,row.cut,row.color,row.price)"
   ]
  },
  {
   "cell_type": "code",
   "execution_count": null,
   "metadata": {},
   "outputs": [],
   "source": [
    "import pandas as pd\n",
    "diamonds = pd.read_csv('https://raw.githubusercontent.com/mwaskom/seaborn-data/master/diamonds.csv')\n",
    "print(\"Original Dataframe:\")\n",
    "print(diamonds.head())\n",
    "print(\"\\nIterate through diamonds DataFrame:\")\n",
    "for index, row in diamonds.iterrows():\n",
    "   print(index, row.carat, row.cut, row.color, row.price)"
   ]
  },
  {
   "cell_type": "code",
   "execution_count": null,
   "metadata": {},
   "outputs": [],
   "source": [
    "print(diamonds.dtype())"
   ]
  },
  {
   "cell_type": "code",
   "execution_count": null,
   "metadata": {},
   "outputs": [],
   "source": [
    "#describe on;y certain typ of diamond data fraame\n",
    "import pandas as pd\n",
    "diamonds = pd.read_csv('https://raw.githubusercontent.com/mwaskom/seaborn-data/master/diamonds.csv')\n",
    "print(\"Original Dataframe:\")\n",
    "print(diamonds.head())\n",
    "print(\"\\nList of data types to only describe certain types:\")\n",
    "print(diamonds.describe(include=['object', 'float64']))\n"
   ]
  },
  {
   "cell_type": "code",
   "execution_count": null,
   "metadata": {},
   "outputs": [],
   "source": [
    "print(diamonds.head())"
   ]
  },
  {
   "cell_type": "code",
   "execution_count": null,
   "metadata": {},
   "outputs": [],
   "source": []
  },
  {
   "cell_type": "code",
   "execution_count": null,
   "metadata": {},
   "outputs": [],
   "source": []
  },
  {
   "cell_type": "code",
   "execution_count": null,
   "metadata": {},
   "outputs": [],
   "source": []
  }
 ],
 "metadata": {
  "kernelspec": {
   "display_name": "Python 3",
   "language": "python",
   "name": "python3"
  },
  "language_info": {
   "codemirror_mode": {
    "name": "ipython",
    "version": 3
   },
   "file_extension": ".py",
   "mimetype": "text/x-python",
   "name": "python",
   "nbconvert_exporter": "python",
   "pygments_lexer": "ipython3",
   "version": "3.8.5"
  }
 },
 "nbformat": 4,
 "nbformat_minor": 2
}
